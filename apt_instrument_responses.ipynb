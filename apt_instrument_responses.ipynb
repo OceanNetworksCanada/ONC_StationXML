{
 "cells": [
  {
   "cell_type": "markdown",
   "metadata": {},
   "source": [
    "# Creating instrument responses for APTs\n",
    "\n",
    "Related to: https://gist.github.com/MHee/c4155caea6df1b9fa2d7a5146820f7cf\n",
    "\n",
    "Below is example code to generate, and subsequently write, a StationXML Inventory for a low-rate acceleration channel for the APT, which will comprise the instrument response portion of the metadata for NV.NC89.Z1.MNE.\n",
    "\n",
    "Frequency-phase response transfer functions for the APT are accounted for by a simple unitary numerator/denominator coefficients type response stage with zero uncertainty in their values. The result is a uniform transfer function w.r.t. frequency and phase. Frequency response sensitivity amplitudes are represented specifically to convert 32 bit integers to engineering units for each geophysical sensor. See \"Related to: \". \n",
    "\n",
    "# Remarks on pressure, temperature and ASCII data\n",
    "\n",
    "StationXML Inventories (and thus instrument response representation) have not been generated for the ASCII data, and I am unsure how to create the metadata for these channels (i.e., AED, AHD, and ALD).\n",
    "\n",
    "ObsPy is doubly picky about the unit choice when it comes to creating instrument responses. Temeprature and pressure frequency-phase response transfer functions were created the same way as the ones for acceleration, using of course the appropriate scaling factor. Although ObsPy isn't able to plot these, they essentially appear the same, but have their corresponding sensitivity amplitude."
   ]
  },
  {
   "cell_type": "code",
   "execution_count": 3,
   "metadata": {},
   "outputs": [
    {
     "data": {
      "image/png": "[encoded data removed]",
      "text/plain": [
       "<Figure size 432x288 with 2 Axes>"
      ]
     },
     "metadata": {},
     "output_type": "display_data"
    }
   ],
   "source": [
    "# -*- coding: utf-8 -*-\n",
    "\"\"\"\n",
    "Created on Wed Aug 15 14:37:00 2018\n",
    "\n",
    "@author: jfarrugia\n",
    "\"\"\"\n",
    "\n",
    "%matplotlib inline\n",
    "from obspy.core.inventory import response as rp\n",
    "from obspy import Inventory\n",
    "from obspy.core.inventory import Network, Station, Channel, Site\n",
    "import obspy\n",
    "from datetime import datetime\n",
    "\n",
    "def create_response(inputsamplerate=20.0, scaling_factor=1.4e-8, units='M/S**2'):\n",
    "    _response = rp.Response(\n",
    "            instrument_sensitivity=rp.InstrumentSensitivity(1.0/scaling_factor, \n",
    "                                                            1.0, \n",
    "                                                            input_units=units, \n",
    "                                                            output_units='COUNTS'\n",
    "                                                            ), \n",
    "            response_stages=[\n",
    "                    rp.CoefficientsTypeResponseStage(\n",
    "                            stage_sequence_number=1, \n",
    "                            stage_gain=1.0/scaling_factor, \n",
    "                            stage_gain_frequency=1.0, \n",
    "                            input_units=units, \n",
    "                            output_units='COUNTS', \n",
    "                            cf_transfer_function_type='DIGITAL', \n",
    "                            numerator=rp.FloatWithUncertaintiesAndUnit(1), \n",
    "                            denominator=rp.FloatWithUncertaintiesAndUnit(1), \n",
    "                            decimation_input_sample_rate=inputsamplerate, \n",
    "                            decimation_delay=0.0, \n",
    "                            decimation_factor=1, \n",
    "                            decimation_correction=0.0, \n",
    "                            decimation_offset=0\n",
    "                            )\n",
    "                    ]\n",
    "            )\n",
    "    if units=='M/S**2':\n",
    "        _response.recalculate_overall_sensitivity()\n",
    "        _response.plot(1e-3, output='ACC', label='APT')\n",
    "        \n",
    "    return _response\n",
    "\n",
    "def create_inv(network_code, station_code, location_code, channel_code, isr, sf, u):\n",
    "    writethisinv = Inventory(\n",
    "            networks = [Network(code=network_code,\n",
    "                                start_date=obspy.UTCDateTime('2007-01-01'),\n",
    "                                stations=[Station(code=station_code,\n",
    "                                                  latitude=1, \n",
    "                                                  longitude=2, \n",
    "                                                  elevation=3,\n",
    "                                                  creation_date=obspy.UTCDateTime('2007-01-01'),\n",
    "                                                  site=Site(name='site'),\n",
    "                                                  channels=[Channel(code=channel_code, \n",
    "                                                                    location_code = location_code,\n",
    "                                                                    start_date=obspy.UTCDateTime('2007-01-01'),\n",
    "                                                                    latitude = 1, \n",
    "                                                                    longitude = 2, \n",
    "                                                                    elevation = 3, \n",
    "                                                                    depth = 4, \n",
    "                                                                    response=create_response(inputsamplerate=isr, scaling_factor=sf, units=u)\n",
    "                                                                    )])])], \n",
    "            source='Joseph Farrugia, Ocean Networks Canada', # The source should be the id whoever create the file.\n",
    "            created = obspy.UTCDateTime(datetime.today())\n",
    "                )\n",
    "    return writethisinv\n",
    "\n",
    "#%%write inventories\n",
    "inv = create_inv(network_code='NV', station_code='NC89', location_code='Z1', channel_code='MNE', isr=5.0, sf=1.4e-8, u='M/S**2')\n",
    "inv.write(r'\\\\onc-fileserver\\redirect4\\jfarrugia\\Documents\\GitHub\\StationXML_NV\\{}.xml'.format(inv.get_contents()['channels'][0]), format='stationxml')"
   ]
  },
  {
   "cell_type": "code",
   "execution_count": 4,
   "metadata": {},
   "outputs": [
    {
     "name": "stdout",
     "output_type": "stream",
     "text": [
      "Inventory created at 2018-08-16T11:22:43.490752Z\n",
      "\tCreated by: ObsPy 1.1.0\n",
      "\t\t    https://www.obspy.org\n",
      "\tSending institution: Joseph Farrugia, Ocean Networks Canada\n",
      "\tContains:\n",
      "\t\tNetworks (1):\n",
      "\t\t\tNV\n",
      "\t\tStations (1):\n",
      "\t\t\tNV.NC89 (site)\n",
      "\t\tChannels (1):\n",
      "\t\t\tNV.NC89.Z1.MNE\n"
     ]
    }
   ],
   "source": [
    "print(inv)"
   ]
  },
  {
   "cell_type": "code",
   "execution_count": 5,
   "metadata": {},
   "outputs": [
    {
     "name": "stdout",
     "output_type": "stream",
     "text": [
      "Channel Response\n",
      "\tFrom M/S**2 () to COUNTS ()\n",
      "\tOverall Sensitivity: 7.14286e+07 defined at 1.250 Hz\n",
      "\t1 stages:\n",
      "\t\tStage 1: CoefficientsTypeResponseStage from M/S**2 to COUNTS, gain: 7.14286e+07\n"
     ]
    }
   ],
   "source": [
    "print(inv[0][0][0].response)"
   ]
  }
 ],
 "metadata": {
  "kernelspec": {
   "display_name": "Python 3",
   "language": "python",
   "name": "python3"
  },
  "language_info": {
   "codemirror_mode": {
    "name": "ipython",
    "version": 3
   },
   "file_extension": ".py",
   "mimetype": "text/x-python",
   "name": "python",
   "nbconvert_exporter": "python",
   "pygments_lexer": "ipython3",
   "version": "3.6.6"
  }
 },
 "nbformat": 4,
 "nbformat_minor": 2
}
